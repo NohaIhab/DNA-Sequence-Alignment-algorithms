{
 "cells": [
  {
   "cell_type": "markdown",
   "metadata": {},
   "source": [
    "# Assignment 2: DNA Sequence Alignment\n",
    "## Prepared by: Noha Ihab 17P815"
   ]
  },
  {
   "cell_type": "code",
   "execution_count": 1,
   "metadata": {},
   "outputs": [],
   "source": [
    "#Import necessary libraries\n",
    "from Bio.Seq import Seq\n",
    "import matplotlib.pyplot as plt\n",
    "import numpy as np\n",
    "import pandas as pd\n",
    "%matplotlib inline"
   ]
  },
  {
   "cell_type": "markdown",
   "metadata": {},
   "source": [
    "# Global Alignment\n",
    "## 1. Dot matrix using Window Scoring\n",
    "### In the dot matrix algorithm, one sequence is placed on the horizontal axis, and the other on the vertical axis. In this implementation, we use window scoring to reduce noise. One subsequence from the vertical axis of window size is compared to all possible subsequences of window size from the horizontal axis. If the similarity between them is greater than the given threshold, a dot is placed on the matrix. Then, we proceed to the next subsequence on the vertical axis and repeat the process. When we reach the end, the alignment is revealed by the dots that form diagonal lines.\n",
    "\n",
    "### Function signature: dot_plot(seq1,seq2,step=3,window=9,threshold=4)\n",
    "### Arguments:\n",
    "#### seq1 : The first sequence of type Seq to be placed on the horizontal axis of size M\n",
    "#### seq2: The second sequence of type Seq to be placed on the vertical axis of size N\n",
    "#### step: The number of residues to move the window by in each iteration, default value: 3\n",
    "#### window: The number of residues in a window, default value: 9\n",
    "#### threshold: the number of minimum similar residues required to add a dot to the matrix, default value: 4"
   ]
  },
  {
   "cell_type": "code",
   "execution_count": 2,
   "metadata": {},
   "outputs": [],
   "source": [
    "#plotting helper function for dot plot\n",
    "def dot_matplot(seq1,seq2,dots):\n",
    "    figure = plt.figure()\n",
    "    axes = figure.add_subplot(111)\n",
    "    axes.matshow(dots,cmap='binary')\n",
    "    axes.set_xticks(list(range(len(seq1))))\n",
    "    axes.set_yticks(list(range(len(seq2))))\n",
    "    axes.set_xticklabels(list(seq1))\n",
    "    axes.set_yticklabels(list(seq2))\n",
    "    plt.title('Dot plot using window scoring',y=1.1)\n"
   ]
  },
  {
   "cell_type": "code",
   "execution_count": 3,
   "metadata": {},
   "outputs": [],
   "source": [
    "def dot_plot(seq1,seq2,step=3,window=9,threshold=4):\n",
    "    dots=np.zeros(shape=(len(seq1),len(seq2))) #initilaize 2d array of zeros with size MxN\n",
    "    seq1,seq2=str(seq1),str(seq2)\n",
    "    \n",
    "    #initialize variables\n",
    "    step=step\n",
    "    win_size=window\n",
    "    thresh=threshold\n",
    "    \n",
    "    #start iterating on DNA sequences\n",
    "    for x in range(0,len(seq1)-win_size+1,step):\n",
    "        a=seq1[x:x+win_size] #define subsequence 1\n",
    "        for y in range(0,len(seq2)-win_size+1,step):\n",
    "            count=0 #initialize number of similar residues to 0\n",
    "            b=seq2[y:y+win_size] #define subsequence 2\n",
    "            for i in range(len(a)):\n",
    "                if a[i]==b[i]: #check on similarity between two residues\n",
    "                    count+=1 #if they ar similar increment the count\n",
    "            if count>=thresh: #compare count against threshold\n",
    "                midx,midy=int(x+win_size/2),int(y+win_size/2) #prepare dot coordinates\n",
    "                dots[midx,midy]=1 #add a dot to the matrix\n",
    "    #call helper function to plot the matrix\n",
    "    dot_matplot(seq1,seq2,dots)\n",
    "            "
   ]
  },
  {
   "cell_type": "code",
   "execution_count": 4,
   "metadata": {},
   "outputs": [
    {
     "data": {
      "image/png": "[encoded data removed]",
      "text/plain": [
       "<Figure size 432x288 with 1 Axes>"
      ]
     },
     "metadata": {
      "needs_background": "light"
     },
     "output_type": "display_data"
    }
   ],
   "source": [
    "#testing dotplot function\n",
    "Seq1=Seq('ACGTTGACCTGTAACCTC')\n",
    "Seq2=Seq('ACCTTGTCCTCTTTGCCC')\n",
    "dot_plot(Seq1,Seq2)"
   ]
  },
  {
   "cell_type": "markdown",
   "metadata": {},
   "source": [
    "## 2. Needleman Wunch\n",
    "### This strategy is suitable for aligning two closely related sequences that are of the same length. It produces optimal alignment over the entire length of two sequences. \n",
    "### Function signature: needleman_wunch(seq1,seq2,match=2,mismatch=-1,gap=-1)\n",
    "### Arguments:\n",
    "#### seq1 : The first sequence of type Seq to be placed on the horizontal axis of size M\n",
    "#### seq2: The second sequence of type Seq to be placed on the vertical axis of size N\n",
    "#### match: the match score, defalut value: 2\n",
    "#### mismatch: the mismatch penalty, default value: -1\n",
    "#### gap: the gap penalty (vertical or horizontal), default value: -1\n",
    "### Returns: df: DataFrame containing the sequence alignment matrix"
   ]
  },
  {
   "cell_type": "code",
   "execution_count": 5,
   "metadata": {},
   "outputs": [],
   "source": [
    "def needleman_wunch(seq1,seq2,match=2,mismatch=-1,gap=-1):\n",
    "    seq1,seq2=str(seq1),str(seq2)\n",
    "    matrix=np.full(((len(seq1)+1,len(seq2)+1)),np.NaN,dtype=object) #define a 2d array of size M+1xN+1 with nan values\n",
    "    matrix[:,0]=np.arange(0,(-1*len(seq1))-1,-1) #set the first column to 0 -1 -2 -3 .. -N\n",
    "    matrix[0,:]=np.arange(0,(-1*len(seq2))-1,-1) #set the first row to 0 -1 -2 -3 .. -M\n",
    "    \n",
    "    #calculating the matrix\n",
    "    for i in range(1,matrix.shape[0]):\n",
    "        for j in range(1,matrix.shape[1]):\n",
    "            #for each cell in the matrix do the following:\n",
    "            diag = matrix[i-1,j-1] + (match if seq1[i-1]==seq2[j-1] else mismatch) #calculate score from the upper left element\n",
    "            gap_h= matrix[i,j-1]+gap #calculate score from the left element\n",
    "            gap_v=matrix[i-1,j]+gap #calculate score from the upper element\n",
    "            matrix[i,j]=max(diag,gap_h,gap_v) #set the score to be the maximum of all three\n",
    "            \n",
    "    #finding alignment sequence\n",
    "    (i,j)=matrix.shape[0]-1,matrix.shape[1]-1 #start from the bottom right corner\n",
    "    seq1_align,seq2_align='','' #define aligned sequences\n",
    "    \n",
    "    while(i>0 or j>0): #repeat until top left is reached\n",
    "        #initialize the three possible directions\n",
    "        top_left=matrix[i-1,j-1]\n",
    "        left=matrix[i,j-1]\n",
    "        top=matrix[i-1,j]\n",
    "        \n",
    "        #check which cell has the maximum value\n",
    "        if top_left>=top and top_left>=left: #move to upper left\n",
    "            seq1_align=seq1[i-1]+seq1_align\n",
    "            seq2_align=seq2[j-1]+seq2_align\n",
    "            i,j=i-1,j-1\n",
    "        elif left>top: #move left\n",
    "            seq1_align='-'+seq1_align\n",
    "            seq2_align=seq2[j-1]+seq2_align\n",
    "            j-=1\n",
    "        else: #move up\n",
    "            seq1_align=seq1[i-1]+seq1_align\n",
    "            seq2_align='-'+seq2_align\n",
    "            i-=1\n",
    "\n",
    "    print('Sequence 1: {}'.format(seq1_align))\n",
    "    print('Sequence 2: {}'.format(seq2_align))\n",
    "    row_labels=list(' '+seq1)\n",
    "    column_labels=list(' '+seq2)\n",
    "    df = pd.DataFrame(matrix, columns=column_labels, index=row_labels) #define dataframe with DNA sequences as labels\n",
    "    return df #return dataframe to be printed"
   ]
  },
  {
   "cell_type": "code",
   "execution_count": 6,
   "metadata": {},
   "outputs": [
    {
     "name": "stdout",
     "output_type": "stream",
     "text": [
      "Sequence 1: -ACGCTG\n",
      "Sequence 2: CATG-T-\n"
     ]
    },
    {
     "data": {
      "text/html": [
       "<div>\n",
       "<style scoped>\n",
       "    .dataframe tbody tr th:only-of-type {\n",
       "        vertical-align: middle;\n",
       "    }\n",
       "\n",
       "    .dataframe tbody tr th {\n",
       "        vertical-align: top;\n",
       "    }\n",
       "\n",
       "    .dataframe thead th {\n",
       "        text-align: right;\n",
       "    }\n",
       "</style>\n",
       "<table border=\"1\" class=\"dataframe\">\n",
       "  <thead>\n",
       "    <tr style=\"text-align: right;\">\n",
       "      <th></th>\n",
       "      <th></th>\n",
       "      <th>C</th>\n",
       "      <th>A</th>\n",
       "      <th>T</th>\n",
       "      <th>G</th>\n",
       "      <th>T</th>\n",
       "    </tr>\n",
       "  </thead>\n",
       "  <tbody>\n",
       "    <tr>\n",
       "      <th></th>\n",
       "      <td>0</td>\n",
       "      <td>-1</td>\n",
       "      <td>-2</td>\n",
       "      <td>-3</td>\n",
       "      <td>-4</td>\n",
       "      <td>-5</td>\n",
       "    </tr>\n",
       "    <tr>\n",
       "      <th>A</th>\n",
       "      <td>-1</td>\n",
       "      <td>-1</td>\n",
       "      <td>1</td>\n",
       "      <td>0</td>\n",
       "      <td>-1</td>\n",
       "      <td>-2</td>\n",
       "    </tr>\n",
       "    <tr>\n",
       "      <th>C</th>\n",
       "      <td>-2</td>\n",
       "      <td>1</td>\n",
       "      <td>0</td>\n",
       "      <td>0</td>\n",
       "      <td>-1</td>\n",
       "      <td>-2</td>\n",
       "    </tr>\n",
       "    <tr>\n",
       "      <th>G</th>\n",
       "      <td>-3</td>\n",
       "      <td>0</td>\n",
       "      <td>0</td>\n",
       "      <td>-1</td>\n",
       "      <td>2</td>\n",
       "      <td>1</td>\n",
       "    </tr>\n",
       "    <tr>\n",
       "      <th>C</th>\n",
       "      <td>-4</td>\n",
       "      <td>-1</td>\n",
       "      <td>-1</td>\n",
       "      <td>-1</td>\n",
       "      <td>1</td>\n",
       "      <td>1</td>\n",
       "    </tr>\n",
       "    <tr>\n",
       "      <th>T</th>\n",
       "      <td>-5</td>\n",
       "      <td>-2</td>\n",
       "      <td>-2</td>\n",
       "      <td>1</td>\n",
       "      <td>0</td>\n",
       "      <td>3</td>\n",
       "    </tr>\n",
       "    <tr>\n",
       "      <th>G</th>\n",
       "      <td>-6</td>\n",
       "      <td>-3</td>\n",
       "      <td>-3</td>\n",
       "      <td>0</td>\n",
       "      <td>3</td>\n",
       "      <td>2</td>\n",
       "    </tr>\n",
       "  </tbody>\n",
       "</table>\n",
       "</div>"
      ],
      "text/plain": [
       "        C   A   T   G   T\n",
       "    0  -1  -2  -3  -4  -5\n",
       "A  -1  -1   1   0  -1  -2\n",
       "C  -2   1   0   0  -1  -2\n",
       "G  -3   0   0  -1   2   1\n",
       "C  -4  -1  -1  -1   1   1\n",
       "T  -5  -2  -2   1   0   3\n",
       "G  -6  -3  -3   0   3   2"
      ]
     },
     "execution_count": 6,
     "metadata": {},
     "output_type": "execute_result"
    }
   ],
   "source": [
    "#needleman-wunch test\n",
    "Seq2=Seq('CATGT')\n",
    "Seq1=Seq('ACGCTG')\n",
    "needleman_wunch(Seq1,Seq2)"
   ]
  },
  {
   "cell_type": "markdown",
   "metadata": {},
   "source": [
    "# Local Alignment\n",
    "## Smith-Waterman\n",
    "### This strategy is similar to the Needleman-wunch except for three points: the minimum score for any cell is 0, we begin traceback from the cell with the highest score, and we terminate the traceback when the score is 0.\n",
    "### Function signature: smith_waterman(seq1,seq2,match=5,mismatch=-2,gap=-6)\n",
    "### Arguments:\n",
    "#### seq1 : The first sequence of type Seq to be placed on the horizontal axis of size M\n",
    "#### seq2: The second sequence of type Seq to be placed on the vertical axis of size N\n",
    "#### match: the match score, defalut value: 5\n",
    "#### mismatch: the mismatch penalty, default value: -2\n",
    "#### gap: the gap penalty (vertical or horizontal), default value: -6"
   ]
  },
  {
   "cell_type": "code",
   "execution_count": 7,
   "metadata": {},
   "outputs": [],
   "source": [
    "#helper function to plot smith waterman steps\n",
    "def plot_2d_matrix(seq1,seq2,matrix,title):\n",
    "    figure = plt.figure()\n",
    "    axes = figure.add_subplot(111)\n",
    "    axes.matshow(matrix,cmap='Blues')\n",
    "    axes.set_yticks(list(range(len(seq1)+1)))\n",
    "    axes.set_xticks(list(range(len(seq2)+1)))\n",
    "    axes.set_yticklabels([' ']+list(seq1))\n",
    "    axes.set_xticklabels([' ']+list(seq2))\n",
    "    for (i, j), z in np.ndenumerate(matrix):\n",
    "        axes.text(j, i, '{:0.0f}'.format(z), ha='center', va='center') #add the values of the cells to the plot\n",
    "    plt.title(title,y=1.1)\n",
    "    plt.show()"
   ]
  },
  {
   "cell_type": "code",
   "execution_count": 8,
   "metadata": {},
   "outputs": [],
   "source": [
    "def smith_waterman(seq1,seq2,match=5,mismatch=-2,gap=-6):\n",
    "    seq1,seq2=str(seq1),str(seq2)\n",
    "    matrix=np.full(((len(seq1)+1,len(seq2)+1)),np.NaN) #initialize 2d array of size M+1xN+1\n",
    "    matrix[0,:]=0 #set first row to 0\n",
    "    matrix[:,0]=0 #set first column to 0\n",
    "    \n",
    "    #calculate matrix values from top left corner to bottom right corner\n",
    "    for i in range(1,matrix.shape[0]):\n",
    "        for j in range(1,matrix.shape[1]):\n",
    "            diag = matrix[i-1,j-1] + (match if seq1[i-1]==seq2[j-1] else mismatch)\n",
    "            gap_h= matrix[i,j-1]+gap\n",
    "            gap_v=matrix[i-1,j]+gap\n",
    "            matrix[i,j]=max(diag,gap_h,gap_v,0)\n",
    "            \n",
    "    #finding alignment sequence\n",
    "    (i,j)=np.unravel_index(matrix.argmax(),matrix.shape) #get index of cell with maximum value to be start point\n",
    "    choice=-1\n",
    "    seq1_align,seq2_align='',''\n",
    "    while(choice!=0 and (i>0 or j>0)): #stop backtracking when 0 is found\n",
    "        #same concept of needleman-wunch to get the alignment\n",
    "        top_left=matrix[i-1,j-1]\n",
    "        left=matrix[i,j-1]\n",
    "        top=matrix[i-1,j]\n",
    "        if top==0 or top_left==0 or left==0:\n",
    "            seq1_align=seq1[i-1]+seq1_align\n",
    "            seq2_align=seq2[j-1]+seq2_align\n",
    "            break\n",
    "        if top_left>=top and top_left>=left:\n",
    "            seq1_align=seq1[i-1]+seq1_align\n",
    "            seq2_align=seq2[j-1]+seq2_align\n",
    "            i,j=i-1,j-1\n",
    "        elif left>top:\n",
    "            seq1_align='-'+seq1_align\n",
    "            seq2_align=seq2[j-1]+seq2_align\n",
    "            j-=1\n",
    "        else:\n",
    "            seq1_align=seq1[i-1]+seq1_align\n",
    "            seq2_align='-'+seq2_align\n",
    "            i-=1\n",
    "        choice=matrix[i,j] # set choice as the next cell to be inspected (used to check on 0)\n",
    "    print('Sequence 1: {}'.format(seq1_align))\n",
    "    print('Sequence 2: {}'.format(seq2_align))\n",
    "    #call helper plotting function\n",
    "    plot_2d_matrix(seq1,seq2,matrix,'Smith-Waterman local alignment')"
   ]
  },
  {
   "cell_type": "code",
   "execution_count": 9,
   "metadata": {},
   "outputs": [
    {
     "name": "stdout",
     "output_type": "stream",
     "text": [
      "Sequence 1: TCATA\n",
      "Sequence 2: TCGTA\n"
     ]
    },
    {
     "data": {
      "image/png": "[encoded data removed]",
      "text/plain": [
       "<Figure size 432x288 with 1 Axes>"
      ]
     },
     "metadata": {
      "needs_background": "light"
     },
     "output_type": "display_data"
    }
   ],
   "source": [
    "#smith-waterman test\n",
    "Seq1=Seq('TTCATA')\n",
    "Seq2=Seq('TGCTCGTA')\n",
    "smith_waterman(Seq1,Seq2)"
   ]
  }
 ],
 "metadata": {
  "kernelspec": {
   "display_name": "Python 3",
   "language": "python",
   "name": "python3"
  },
  "language_info": {
   "codemirror_mode": {
    "name": "ipython",
    "version": 3
   },
   "file_extension": ".py",
   "mimetype": "text/x-python",
   "name": "python",
   "nbconvert_exporter": "python",
   "pygments_lexer": "ipython3",
   "version": "3.8.3"
  }
 },
 "nbformat": 4,
 "nbformat_minor": 4
}
